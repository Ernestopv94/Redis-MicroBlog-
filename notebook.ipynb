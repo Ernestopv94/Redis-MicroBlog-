{
 "cells": [
  {
   "cell_type": "code",
   "execution_count": null,
   "metadata": {},
   "outputs": [],
   "source": [
    "import redis\n",
    "import pandas as pd\n",
    "import time \n",
    "import datetime \n",
    "import numpy as np"
   ]
  },
  {
   "cell_type": "markdown",
   "metadata": {},
   "source": [
    "### Ejercicio 1"
   ]
  },
  {
   "cell_type": "code",
   "execution_count": null,
   "metadata": {},
   "outputs": [],
   "source": [
    "class MicroBlog:\n",
    "    \n",
    "    # Constructor\n",
    "    def __init__(self, direccion='127.0.0.1', puerto=6379, base_datos=0):\n",
    "        self.__r = redis.Redis(host=direccion,port=puerto, password='',db = base_datos,decode_responses=True)\n",
    "        self.__r.flushall()\n",
    "        \n",
    "    \n",
    "    #---------------- Métodos Públicos ----------------\n",
    "    \n",
    "  \n",
    "    \n",
    "    def nuevoUsuario(self, nombre_usuario):\n",
    "        \n",
    "        # Incrementa el id\n",
    "        user_id = self.__r.incr('user_id')\n",
    "        \n",
    "        # Crea una entrada nueva en la base de datos\n",
    "        self.__r.set('user:' + str(user_id), nombre_usuario)\n",
    "        \n",
    "        # Mete el nombre y el id en una nueva entrada del hash users\n",
    "        self.__r.hset('users', nombre_usuario, user_id)\n",
    "        \n",
    "        \n",
    "    def seguir(self, seguidor, seguido, fecha):\n",
    "        \n",
    "        if (self.__existeUsuario(seguidor)) and (self.__existeUsuario(seguido)):\n",
    "            self.__nuevoFollower(seguidor, seguido, fecha)\n",
    "            self.__nuevoFollowing(seguidor, seguido, fecha)       \n",
    "   \n",
    "        \n",
    "        \n",
    "    def nuevoPost(self, usuario, mensaje, fecha):\n",
    "        \n",
    "        # Comprueba que existe el usuario\n",
    "        if self.__existeUsuario(usuario):\n",
    "        \n",
    "            # Incrementa el id\n",
    "            post_id = self.__r.incr('post_id')\n",
    "    \n",
    "            # Obtiene el id del usuario que escribió el mensaje\n",
    "            user_id = self.__r.hget('users',usuario)\n",
    "    \n",
    "            # Crea un hash para el post con el id del usuario, la fecha y el mensaje\n",
    "            self.__r.hset('post:'+str(post_id), 'user_id', user_id)\n",
    "            self.__r.hset('post:'+str(post_id), 'fecha', fecha)\n",
    "            self.__r.hset('post:'+str(post_id), 'mensaje', mensaje)\n",
    "    \n",
    "            # Añade el id_post al set de posts del usuario\n",
    "            self.__r.sadd('posts:'+str(user_id), post_id)\n",
    "    \n",
    "            # Obtiene todos los followers del usuario\n",
    "            lista_followers = self.__r.hgetall('followers:' + user_id).keys()\n",
    "    \n",
    "            # Añade el id_post al set de posts de los followers\n",
    "            for follower_id in lista_followers:\n",
    "                \n",
    "                fecha_follow = int(self.__r.hget('followers:' + str(user_id), follower_id))\n",
    "                \n",
    "                if fecha >= fecha_follow:                    \n",
    "                    self.__r.sadd('posts:'+str(follower_id), post_id)   \n",
    "                \n",
    "                \n",
    "    \n",
    "    def obtenerFollowers(self, usuario):\n",
    "        \n",
    "        # Comprueba que existe el usuario\n",
    "        if self.__existeUsuario(usuario):\n",
    "            \n",
    "            # Obtiene el id del usuario al que se va a seguir\n",
    "            user_id = self.__r.hget('users',usuario)\n",
    "            \n",
    "            # Obtiene la lista de ids de los followers\n",
    "            followers_ids = self.__r.hgetall('followers:' + str(user_id))\n",
    "            \n",
    "            # Obtiene los nombres de todos los followers a partir de sus ids\n",
    "            user_names = []\n",
    "            for ids in followers_ids.keys(): \n",
    "                user_names.append(self.__r.get('user:' + ids))\n",
    "              \n",
    "            # Convierte las fechas de formato unix timestamp a datetime\n",
    "            fechas = []\n",
    "            for unix in followers_ids.values(): \n",
    "                fechas.append(datetime.datetime.utcfromtimestamp(int(unix)).strftime('%Y-%m-%d %H:%M:%S'))\n",
    "                \n",
    "            # Une la lista de usuarios y le de fechas en un array 2D\n",
    "            lista_final = []\n",
    "            for i in range(len(user_names)):\n",
    "                lista_final.append([user_names[i],fechas[i]])\n",
    "                \n",
    "                \n",
    "            return lista_final\n",
    "            \n",
    "        \n",
    "    def obtenerFollowings(self, usuario):\n",
    "        \n",
    "        # Comprueba que existe el usuario\n",
    "        if self.__existeUsuario(usuario):\n",
    "            \n",
    "            # Obtiene el id del usuario al que se va a seguir\n",
    "            user_id = self.__r.hget('users',usuario)\n",
    "            \n",
    "            # Obtiene la lista de ids de los followers\n",
    "            followers_ids = self.__r.hgetall('following:' + str(user_id))\n",
    "            \n",
    "            # Obtiene los nombres de todos los followers a partir de sus ids\n",
    "            user_names = []\n",
    "            for ids in followers_ids.keys(): \n",
    "                user_names.append(self.__r.get('user:' + ids))\n",
    "              \n",
    "            # Convierte las fechas de formato unix timestamp a datetime\n",
    "            fechas = []\n",
    "            for unix in followers_ids.values(): \n",
    "                fechas.append(datetime.datetime.utcfromtimestamp(int(unix)).strftime('%Y-%m-%d %H:%M:%S'))\n",
    "                \n",
    "        \n",
    "            # Une la lista de usuarios y le de fechas en un array 2D\n",
    "            lista_final = []\n",
    "            for i in range(len(user_names)):\n",
    "                lista_final.append([user_names[i],fechas[i]])\n",
    "                \n",
    "                \n",
    "            return lista_final\n",
    "        \n",
    "        \n",
    "    def obtenerTimeline(self, usuario, tweets_propios):\n",
    "        \n",
    "        # Comprueba que existe el usuario\n",
    "        if self.__existeUsuario(usuario):\n",
    "                \n",
    "            # Obtiene el id del usuario\n",
    "            user_id = self.__r.hget('users',usuario)\n",
    "                 \n",
    "            # Obtiene todos los ids de posts de la timeline del usuario ordenados por fecha descendente\n",
    "            list_post_ids = self.__r.sort('posts:'+str(user_id), by='post:*->fecha')\n",
    "            \n",
    "            # Si tweets_propios es falso, solo muestra los posts de la gente que sigue\n",
    "            if not tweets_propios:\n",
    "                \n",
    "                ids_a_quitar = []\n",
    "                # Encuentra los post creados por este mismo usuario\n",
    "                for post_id in list_post_ids:\n",
    "                    if user_id == self.__r.hget('post:'+str(post_id), 'user_id'):\n",
    "                        ids_a_quitar.append(post_id)\n",
    "            \n",
    "                # Quita los posts del propio usuario\n",
    "                for post_id in ids_a_quitar:\n",
    "                    list_post_ids.remove(post_id)\n",
    "            \n",
    "            posts = []\n",
    "            # Obtiene los mensajes de los posts a partir de su id\n",
    "            for post_id in list_post_ids:\n",
    "                posts.append(self.__r.hget('post:'+str(post_id), 'mensaje'))\n",
    "            \n",
    "            return posts\n",
    "                \n",
    "                \n",
    "                \n",
    "    \n",
    "    #---------------- Métodos Privados ----------------\n",
    "    \n",
    "    \n",
    "    \n",
    "    \n",
    "    def __nuevoFollower(self, seguidor, usuario, fecha):\n",
    "        \n",
    "        # Obtiene el id del usuario al que se va a seguir\n",
    "        user_id = self.__r.hget('users',usuario)\n",
    "        \n",
    "        # Obtiene el id del seguidor\n",
    "        follower_id = self.__r.hget('users',seguidor)\n",
    "        \n",
    "        # Crea una entrada en el hash con los datos del seguidor y la fecha\n",
    "        self.__r.hset('followers:' + str(user_id), follower_id, fecha)\n",
    "        \n",
    "    def __nuevoFollowing(self, usuario, seguido, fecha):\n",
    "        \n",
    "        # Obtiene el id del usuario al que empieza a seguir\n",
    "        user_id = self.__r.hget('users',usuario)\n",
    "        \n",
    "        # Obtiene el id del usuario al que se va a seguir\n",
    "        following_id = self.__r.hget('users',seguido)\n",
    "        \n",
    "        # Crea una entrada en el hash con los datos del seguido y la fecha\n",
    "        self.__r.hset('following:' + str(user_id), following_id, fecha)\n",
    "    \n",
    "    def __existeUsuario(self, nombre_usuario):\n",
    "        return self.__r.hget('users',nombre_usuario) != None\n"
   ]
  },
  {
   "cell_type": "markdown",
   "metadata": {},
   "source": [
    "### Ejercicio 2"
   ]
  },
  {
   "cell_type": "code",
   "execution_count": null,
   "metadata": {},
   "outputs": [],
   "source": [
    "df_rel = pd.read_csv('relations.csv')"
   ]
  },
  {
   "cell_type": "code",
   "execution_count": null,
   "metadata": {},
   "outputs": [],
   "source": [
    "# Convierte la columna Following_Time a formato datetime\n",
    "df_rel['Following_Time'] = pd.to_datetime(df_rel['Following_Time'])\n",
    "\n",
    "# Crea una nueva columna con la fecha en formato unix timestamp\n",
    "df_rel['Unix_Following_Time'] = (df_rel['Following_Time'] - pd.Timestamp(\"1970-01-01\")) // pd.Timedelta('1s')"
   ]
  },
  {
   "cell_type": "code",
   "execution_count": null,
   "metadata": {
    "scrolled": true
   },
   "outputs": [],
   "source": [
    "df_rel.head()"
   ]
  },
  {
   "cell_type": "code",
   "execution_count": null,
   "metadata": {},
   "outputs": [],
   "source": [
    "# Crea una instancia de la clase MicroBlog\n",
    "twotter = MicroBlog()"
   ]
  },
  {
   "cell_type": "code",
   "execution_count": null,
   "metadata": {
    "scrolled": true
   },
   "outputs": [],
   "source": [
    "# Añade todos los usuarios a la base de datos con el método nuevoUsuario\n",
    "lista_usuarios = df_rel['User'].unique()\n",
    "\n",
    "for usuario in lista_usuarios:\n",
    "    twotter.nuevoUsuario(usuario)    "
   ]
  },
  {
   "cell_type": "code",
   "execution_count": null,
   "metadata": {},
   "outputs": [],
   "source": [
    "# Añade todos los follows a la base de datos con el método seguir\n",
    "lista_follows = df_rel[['User','Follows','Unix_Following_Time']].values\n",
    "\n",
    "for follow in lista_follows:\n",
    "    twotter.seguir(follow[0], follow[1], follow[2])"
   ]
  },
  {
   "cell_type": "code",
   "execution_count": null,
   "metadata": {},
   "outputs": [],
   "source": [
    "df_twits = pd.read_csv('twitter_sample.csv')\n",
    "df_twits.drop(columns = ['Unnamed: 3'],inplace=True)"
   ]
  },
  {
   "cell_type": "code",
   "execution_count": null,
   "metadata": {},
   "outputs": [],
   "source": [
    "# Convierte la columna Following_Time a formato datetime\n",
    "df_twits['Post_Time'] = pd.to_datetime(df_twits['Post_Time'])\n",
    "\n",
    "# Crea una nueva columna con la fecha en formato unix timestamp\n",
    "df_twits['Unix_Post_Time'] = (df_twits['Post_Time'] - pd.Timestamp(\"1970-01-01\")) // pd.Timedelta('1s')"
   ]
  },
  {
   "cell_type": "code",
   "execution_count": null,
   "metadata": {},
   "outputs": [],
   "source": [
    "df_twits.head()"
   ]
  },
  {
   "cell_type": "code",
   "execution_count": null,
   "metadata": {},
   "outputs": [],
   "source": [
    "# Introduce todos los tuits en la base de datos con el método nuevoPost\n",
    "lista_twits = df_twits[['User','Tweet_Content','Unix_Post_Time']].values\n",
    "\n",
    "for twit in lista_twits:\n",
    "    twotter.nuevoPost(twit[0], twit[1], twit[2])"
   ]
  },
  {
   "cell_type": "markdown",
   "metadata": {},
   "source": [
    "### Ejercicio 3"
   ]
  },
  {
   "cell_type": "code",
   "execution_count": null,
   "metadata": {},
   "outputs": [],
   "source": [
    "# Prueba de obtenerFollowers\n",
    "twotter.obtenerFollowers('andyglittle')"
   ]
  },
  {
   "cell_type": "code",
   "execution_count": null,
   "metadata": {},
   "outputs": [],
   "source": [
    "# Prueba de obtenerFollowings\n",
    "twotter.obtenerFollowings('andyglittle')"
   ]
  },
  {
   "cell_type": "code",
   "execution_count": null,
   "metadata": {
    "scrolled": true
   },
   "outputs": [],
   "source": [
    "# Prueba de obtenerTimeline\n",
    "timeline = twotter.obtenerTimeline('andyglittle', False)"
   ]
  },
  {
   "cell_type": "code",
   "execution_count": null,
   "metadata": {},
   "outputs": [],
   "source": [
    "for twit in timeline:\n",
    "    print(twit+'\\n')"
   ]
  }
 ],
 "metadata": {
  "kernelspec": {
   "display_name": "Python 3",
   "language": "python",
   "name": "python3"
  },
  "language_info": {
   "codemirror_mode": {
    "name": "ipython",
    "version": 3
   },
   "file_extension": ".py",
   "mimetype": "text/x-python",
   "name": "python",
   "nbconvert_exporter": "python",
   "pygments_lexer": "ipython3",
   "version": "3.8.5"
  }
 },
 "nbformat": 4,
 "nbformat_minor": 4
}
